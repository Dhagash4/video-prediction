{
 "cells": [
  {
   "cell_type": "code",
   "execution_count": null,
   "id": "8ae2fcd7",
   "metadata": {},
   "outputs": [],
   "source": [
    "wG795Q8qgNJZYq9"
   ]
  },
  {
   "cell_type": "code",
   "execution_count": null,
   "id": "2fc3ebe1",
   "metadata": {},
   "outputs": [],
   "source": [
    "# =================================================================================================\n",
    "# Image Preprocessing: Extracting and Resizing (bicubic) Frames from Video to unique Video Folders\n",
    "# =================================================================================================\n",
    "\n",
    "import os, subprocess\n",
    "import glob\n",
    "from PIL import Image\n",
    "\n",
    "data_dir = './kth'\n",
    "vid_ext = 'avi'\n",
    "frame_rate = 25\n",
    "img_size = 128\n",
    "save_dir = os.path.abspath('./kth'+'_resized_'+str(img_size)+'x'+str(img_size))\n",
    "img_ext = 'png'\n",
    "\n",
    "os.chdir(data_dir)\n",
    "\n",
    "for n in range(17,26):\n",
    "    test_split_persons = ['person{:02d}'.format(n)]\n",
    "\n",
    "for i, file in enumerate(glob.glob('**/*.'+vid_ext, recursive=True)):\n",
    "    folder_name, file_name = os.path.split(file)\n",
    "\n",
    "    video_name = file_name.split('_')[1]+'_'+file_name.split('_')[0]+'_'+file_name.split('_')[2]\n",
    "\n",
    "    if file_name.split('_')[0] in test_split_persons:\n",
    "        split = 'test'\n",
    "    else: \n",
    "        split = 'train'\n",
    "\n",
    "    frame_path_name = save_dir+'/'+split+'/'+video_name\n",
    "\n",
    "    if not os.path.exists(frame_path_name):\n",
    "        os.makedirs(frame_path_name)\n",
    "\n",
    "    subprocess.call(['ffmpeg', '-i', '{}'.format(os.path.abspath(file)), '-r', '{}'.format(frame_rate), '-s', '{}x{}'.format(img_size, img_size), '{}/{}_%04d.{}'.format(frame_path_name, video_name, img_ext)])\n",
    "\n",
    "    if i % 100==0:\n",
    "        print('extracting frames from video', str(i+1), ':', file_name)\n",
    "        print('... from video directory:', folder_name)\n",
    "        print('... to new frame directory:', frame_path_name)\n",
    "\n",
    "print('All video frames have been extracted and resized to unique video folders successfully!')\n",
    "\n",
    "\n",
    "# =============================================================================\n",
    "# Image Preprocessing: Converting RGB Frames to Grayscale Frames\n",
    "# =============================================================================\n",
    "\n",
    "os.chdir(save_dir)\n",
    "\n",
    "for i, file in enumerate(sorted(glob.glob('**/*.'+img_ext, recursive=True))):\n",
    "    folder_name, file_name = os.path.split(file)\n",
    "\n",
    "    img = Image.open(os.path.abspath(file)).convert('L')\n",
    "    img.save(os.path.abspath(file))\n",
    "\n",
    "    if i % 100==0:\n",
    "        print('converting image', str(i+1), ':', file_name)\n",
    "        print('... in directory:', folder_name)\n",
    "\n",
    "print('All video frames have been converted from rgb to grayscale successfully!')"
   ]
  }
 ],
 "metadata": {
  "kernelspec": {
   "display_name": "Python 3 (ipykernel)",
   "language": "python",
   "name": "python3"
  },
  "language_info": {
   "codemirror_mode": {
    "name": "ipython",
    "version": 3
   },
   "file_extension": ".py",
   "mimetype": "text/x-python",
   "name": "python",
   "nbconvert_exporter": "python",
   "pygments_lexer": "ipython3",
   "version": "3.9.7"
  }
 },
 "nbformat": 4,
 "nbformat_minor": 5
}
