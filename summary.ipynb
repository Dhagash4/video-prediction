{
 "cells": [
  {
   "cell_type": "markdown",
   "metadata": {},
   "source": [
    "### **Video Prediction Project - Lab CudaVision**\n",
    "* Amit Kumar Rana\n",
    "* Dhagash Desai\n",
    "* Lina Hashem\n"
   ]
  },
  {
   "cell_type": "markdown",
   "metadata": {},
   "source": [
    "### Table of Contents\n",
    "\n",
    "* [1. Import Required Modules](#sec_1)\n",
    "* [2. Datasets](#sec_2)\n",
    "    * [2.1 Moving MNIST](#sec_2_1)\n",
    "    * [2.2 KTH](#sec_2_2)\n",
    "    * [2.3 Train/Test Dotaloader Statistics](#sec_2_3)\n",
    "* [3. Models Architectures](#sec_3)\n",
    "    * [3.1 Resnet18-style Encoder-Decoder](#sec_3_1)\n",
    "    * [3.2 VGG19-style Encoder-Decoder](#sec_3_2)\n",
    "    * [3.3 DCGAN-style Encoder-Decoder](#sec_3_3)\n",
    "    * [3.4 ConvLSTM ](#sec_3_4)\n",
    "    * [3.5 Models #Parameters Statistics](#sec_3_5)\n",
    "* [4. Training Experiments](#sec_4)\n",
    "    * [Section 2.1](#sec_4_1)\n",
    "    * [Section 2.2](#sec_4_2)\n",
    "* [5. Results](#sec_5)\n",
    "    * [5.1 Results on MMNIST](#sec_5_1)\n",
    "        * [5.1.1 Visualize Best Metrices](#sec_5_1_1)\n",
    "        * [5.1.2 Visualize Output for Random Samples](#sec_5_1_2)\n",
    "        * [5.1.3 Models Comparison](#sec_5_1_3)\n",
    "    * [5.2 Results on KTH ](#sec_5_2)\n",
    "        * [5.2.1 Visualize Best Metrices](#sec_5_2_1)\n",
    "        * [5.2.2 Visualize Output for Random Samples](#sec_5_2_2)\n",
    "        * [5.2.3 Models Comparison](#sec_5_2_3)\n",
    "* [6. References](#sec_6)"
   ]
  },
  {
   "cell_type": "markdown",
   "metadata": {},
   "source": [
    "### **1. Importing Required Module <a class=\"anchor\" id=\"sec_1\"></a>**"
   ]
  },
  {
   "cell_type": "code",
   "execution_count": 22,
   "metadata": {},
   "outputs": [
    {
     "name": "stdout",
     "output_type": "stream",
     "text": [
      "The autoreload extension is already loaded. To reload it, use:\n",
      "  %reload_ext autoreload\n"
     ]
    }
   ],
   "source": [
    "import os\n",
    "import torch\n",
    "from prettytable import PrettyTable\n",
    "from utils.visualizations import save_grid_batch, save_gif_batch\n",
    "from utils.utils import eval_dataset, count_model_params\n",
    "from models.resnet import Resnet18Encoder, Resnet18Decoder\n",
    "from models.vgg import VGGEncoder, VGGDecoder\n",
    "from models.dcgan import DCGANEncoder, DCGANDecoder\n",
    "from models.predictorLSTM import predictor\n",
    "\n",
    "%load_ext autoreload\n",
    "%autoreload 2\n",
    "device = torch.device(\"cuda\" if torch.cuda.is_available() else \"cpu\")"
   ]
  },
  {
   "cell_type": "markdown",
   "metadata": {},
   "source": [
    "### **2. Datasets <a class=\"anchor\" id=\"sec_2\"></a>**"
   ]
  },
  {
   "cell_type": "code",
   "execution_count": null,
   "metadata": {},
   "outputs": [],
   "source": [
    "#instert directory tree"
   ]
  },
  {
   "cell_type": "markdown",
   "metadata": {},
   "source": [
    "####  **2.1 Moving MNIST <a class=\"anchor\" id=\"sec_2_1\"></a>**"
   ]
  },
  {
   "cell_type": "code",
   "execution_count": 2,
   "metadata": {},
   "outputs": [],
   "source": [
    "mmnist_test_loader = eval_dataset(dataset = \"MMNIST\", batch_size=20)\n"
   ]
  },
  {
   "cell_type": "code",
   "execution_count": null,
   "metadata": {},
   "outputs": [],
   "source": [
    "sample_batch = next(iter(mmnist_test_loader))\n",
    "print(\"batch shape: (seq_len, batch_size, channels, height, width\")\n",
    "sample_batch.shape"
   ]
  },
  {
   "cell_type": "code",
   "execution_count": null,
   "metadata": {},
   "outputs": [],
   "source": [
    "save_grid_batch(sample_batch, nsamples=5, text = \"mmnist_test\", show = True)"
   ]
  },
  {
   "cell_type": "code",
   "execution_count": null,
   "metadata": {},
   "outputs": [],
   "source": [
    "save_gif_batch(sample_batch, nsamples =5, text = \"mmnist_test\", show =True)"
   ]
  },
  {
   "cell_type": "markdown",
   "metadata": {},
   "source": [
    "####  **2.2 KTH <a class=\"anchor\" id=\"sec_2_2\"></a>**"
   ]
  },
  {
   "cell_type": "code",
   "execution_count": null,
   "metadata": {},
   "outputs": [],
   "source": [
    "kth_test_loader = eval_dataset(dataset = \"KTH\", batch_size=20)"
   ]
  },
  {
   "cell_type": "code",
   "execution_count": null,
   "metadata": {},
   "outputs": [],
   "source": [
    "sample_batch = next(iter(mmnist_test_loader))\n",
    "print(\"batch shape: (seq_len, batch_size, channels, height, width\")\n",
    "sample_batch.shape"
   ]
  },
  {
   "cell_type": "code",
   "execution_count": null,
   "metadata": {},
   "outputs": [],
   "source": [
    "save_grid_batch(sample_batch, nsamples=5, text = \"kth_test\", show = True)"
   ]
  },
  {
   "cell_type": "code",
   "execution_count": null,
   "metadata": {},
   "outputs": [],
   "source": [
    "save_gif_batch(sample_batch, nsamples =5, text = \"kth_test\", show =True)"
   ]
  },
  {
   "cell_type": "markdown",
   "metadata": {},
   "source": [
    "### **3. Models Architectures <a class=\"anchor\" id=\"sec_3\"></a>**"
   ]
  },
  {
   "cell_type": "markdown",
   "metadata": {},
   "source": [
    "####  **3.1 Resnet18-style Encoder-Decoder <a class=\"anchor\" id=\"sec_3_1\"></a>**"
   ]
  },
  {
   "cell_type": "code",
   "execution_count": 26,
   "metadata": {},
   "outputs": [
    {
     "data": {
      "text/plain": [
       "Resnet18Encoder(\n",
       "  (c1): Sequential(\n",
       "    (0): Conv2d(1, 64, kernel_size=(3, 3), stride=(1, 1), padding=(1, 1), bias=False)\n",
       "    (1): BatchNorm2d(64, eps=1e-05, momentum=0.1, affine=True, track_running_stats=True)\n",
       "    (2): LeakyReLU(negative_slope=0.2, inplace=True)\n",
       "    (3): MaxPool2d(kernel_size=3, stride=2, padding=1, dilation=1, ceil_mode=False)\n",
       "  )\n",
       "  (layer1): Sequential(\n",
       "    (0): ResidualBlockEncoder(\n",
       "      (conv1): Conv2d(64, 64, kernel_size=(3, 3), stride=(1, 1), padding=(1, 1), bias=False)\n",
       "      (bn1): BatchNorm2d(64, eps=1e-05, momentum=0.1, affine=True, track_running_stats=True)\n",
       "      (lrelu): LeakyReLU(negative_slope=0.2, inplace=True)\n",
       "      (conv2): Conv2d(64, 64, kernel_size=(3, 3), stride=(1, 1), padding=(1, 1), bias=False)\n",
       "      (bn2): BatchNorm2d(64, eps=1e-05, momentum=0.1, affine=True, track_running_stats=True)\n",
       "    )\n",
       "    (1): ResidualBlockEncoder(\n",
       "      (conv1): Conv2d(64, 64, kernel_size=(3, 3), stride=(1, 1), padding=(1, 1), bias=False)\n",
       "      (bn1): BatchNorm2d(64, eps=1e-05, momentum=0.1, affine=True, track_running_stats=True)\n",
       "      (lrelu): LeakyReLU(negative_slope=0.2, inplace=True)\n",
       "      (conv2): Conv2d(64, 64, kernel_size=(3, 3), stride=(1, 1), padding=(1, 1), bias=False)\n",
       "      (bn2): BatchNorm2d(64, eps=1e-05, momentum=0.1, affine=True, track_running_stats=True)\n",
       "    )\n",
       "  )\n",
       "  (layer2): Sequential(\n",
       "    (0): ResidualBlockEncoder(\n",
       "      (conv1): Conv2d(64, 128, kernel_size=(3, 3), stride=(2, 2), padding=(1, 1), bias=False)\n",
       "      (bn1): BatchNorm2d(128, eps=1e-05, momentum=0.1, affine=True, track_running_stats=True)\n",
       "      (lrelu): LeakyReLU(negative_slope=0.2, inplace=True)\n",
       "      (conv2): Conv2d(128, 128, kernel_size=(3, 3), stride=(1, 1), padding=(1, 1), bias=False)\n",
       "      (bn2): BatchNorm2d(128, eps=1e-05, momentum=0.1, affine=True, track_running_stats=True)\n",
       "      (downsample): Sequential(\n",
       "        (0): Conv2d(64, 128, kernel_size=(1, 1), stride=(2, 2))\n",
       "        (1): BatchNorm2d(128, eps=1e-05, momentum=0.1, affine=True, track_running_stats=True)\n",
       "      )\n",
       "    )\n",
       "    (1): ResidualBlockEncoder(\n",
       "      (conv1): Conv2d(128, 128, kernel_size=(3, 3), stride=(1, 1), padding=(1, 1), bias=False)\n",
       "      (bn1): BatchNorm2d(128, eps=1e-05, momentum=0.1, affine=True, track_running_stats=True)\n",
       "      (lrelu): LeakyReLU(negative_slope=0.2, inplace=True)\n",
       "      (conv2): Conv2d(128, 128, kernel_size=(3, 3), stride=(1, 1), padding=(1, 1), bias=False)\n",
       "      (bn2): BatchNorm2d(128, eps=1e-05, momentum=0.1, affine=True, track_running_stats=True)\n",
       "    )\n",
       "  )\n",
       "  (layer3): Sequential(\n",
       "    (0): ResidualBlockEncoder(\n",
       "      (conv1): Conv2d(128, 256, kernel_size=(3, 3), stride=(2, 2), padding=(1, 1), bias=False)\n",
       "      (bn1): BatchNorm2d(256, eps=1e-05, momentum=0.1, affine=True, track_running_stats=True)\n",
       "      (lrelu): LeakyReLU(negative_slope=0.2, inplace=True)\n",
       "      (conv2): Conv2d(256, 256, kernel_size=(3, 3), stride=(1, 1), padding=(1, 1), bias=False)\n",
       "      (bn2): BatchNorm2d(256, eps=1e-05, momentum=0.1, affine=True, track_running_stats=True)\n",
       "      (downsample): Sequential(\n",
       "        (0): Conv2d(128, 256, kernel_size=(1, 1), stride=(2, 2))\n",
       "        (1): BatchNorm2d(256, eps=1e-05, momentum=0.1, affine=True, track_running_stats=True)\n",
       "      )\n",
       "    )\n",
       "    (1): ResidualBlockEncoder(\n",
       "      (conv1): Conv2d(256, 256, kernel_size=(3, 3), stride=(1, 1), padding=(1, 1), bias=False)\n",
       "      (bn1): BatchNorm2d(256, eps=1e-05, momentum=0.1, affine=True, track_running_stats=True)\n",
       "      (lrelu): LeakyReLU(negative_slope=0.2, inplace=True)\n",
       "      (conv2): Conv2d(256, 256, kernel_size=(3, 3), stride=(1, 1), padding=(1, 1), bias=False)\n",
       "      (bn2): BatchNorm2d(256, eps=1e-05, momentum=0.1, affine=True, track_running_stats=True)\n",
       "    )\n",
       "  )\n",
       ")"
      ]
     },
     "execution_count": 26,
     "metadata": {},
     "output_type": "execute_result"
    }
   ],
   "source": [
    "resnet_encoder = Resnet18Encoder()\n",
    "resnet_encoder = resnet_encoder.to(device)\n",
    "resnet_encoder\n"
   ]
  },
  {
   "cell_type": "code",
   "execution_count": 27,
   "metadata": {},
   "outputs": [
    {
     "data": {
      "text/plain": [
       "Resnet18Decoder(\n",
       "  (layer3): Sequential(\n",
       "    (0): ResidualBlockDecoder(\n",
       "      (conv2): Conv2d(256, 256, kernel_size=(3, 3), stride=(1, 1), padding=(1, 1), bias=False)\n",
       "      (bn2): BatchNorm2d(256, eps=1e-05, momentum=0.1, affine=True, track_running_stats=True)\n",
       "      (lrelu): LeakyReLU(negative_slope=0.2, inplace=True)\n",
       "      (conv1): Conv2d(256, 256, kernel_size=(3, 3), stride=(1, 1), padding=(1, 1), bias=False)\n",
       "      (bn1): BatchNorm2d(256, eps=1e-05, momentum=0.1, affine=True, track_running_stats=True)\n",
       "    )\n",
       "    (1): ResidualBlockDecoder(\n",
       "      (conv2): Conv2d(256, 256, kernel_size=(3, 3), stride=(1, 1), padding=(1, 1), bias=False)\n",
       "      (bn2): BatchNorm2d(256, eps=1e-05, momentum=0.1, affine=True, track_running_stats=True)\n",
       "      (lrelu): LeakyReLU(negative_slope=0.2, inplace=True)\n",
       "      (conv1): ConvTranspose2d(256, 128, kernel_size=(3, 3), stride=(2, 2), padding=(1, 1), output_padding=(1, 1), bias=False)\n",
       "      (bn1): BatchNorm2d(128, eps=1e-05, momentum=0.1, affine=True, track_running_stats=True)\n",
       "      (upsample): Sequential(\n",
       "        (0): ConvTranspose2d(256, 128, kernel_size=(3, 3), stride=(2, 2), padding=(1, 1), output_padding=(1, 1), bias=False)\n",
       "        (1): BatchNorm2d(128, eps=1e-05, momentum=0.1, affine=True, track_running_stats=True)\n",
       "      )\n",
       "    )\n",
       "  )\n",
       "  (layer2): Sequential(\n",
       "    (0): ResidualBlockDecoder(\n",
       "      (conv2): Conv2d(256, 256, kernel_size=(3, 3), stride=(1, 1), padding=(1, 1), bias=False)\n",
       "      (bn2): BatchNorm2d(256, eps=1e-05, momentum=0.1, affine=True, track_running_stats=True)\n",
       "      (lrelu): LeakyReLU(negative_slope=0.2, inplace=True)\n",
       "      (conv1): Conv2d(256, 256, kernel_size=(3, 3), stride=(1, 1), padding=(1, 1), bias=False)\n",
       "      (bn1): BatchNorm2d(256, eps=1e-05, momentum=0.1, affine=True, track_running_stats=True)\n",
       "    )\n",
       "    (1): ResidualBlockDecoder(\n",
       "      (conv2): Conv2d(256, 256, kernel_size=(3, 3), stride=(1, 1), padding=(1, 1), bias=False)\n",
       "      (bn2): BatchNorm2d(256, eps=1e-05, momentum=0.1, affine=True, track_running_stats=True)\n",
       "      (lrelu): LeakyReLU(negative_slope=0.2, inplace=True)\n",
       "      (conv1): ConvTranspose2d(256, 64, kernel_size=(3, 3), stride=(2, 2), padding=(1, 1), output_padding=(1, 1), bias=False)\n",
       "      (bn1): BatchNorm2d(64, eps=1e-05, momentum=0.1, affine=True, track_running_stats=True)\n",
       "      (upsample): Sequential(\n",
       "        (0): ConvTranspose2d(256, 64, kernel_size=(3, 3), stride=(2, 2), padding=(1, 1), output_padding=(1, 1), bias=False)\n",
       "        (1): BatchNorm2d(64, eps=1e-05, momentum=0.1, affine=True, track_running_stats=True)\n",
       "      )\n",
       "    )\n",
       "  )\n",
       "  (layer1): Sequential(\n",
       "    (0): ResidualBlockDecoder(\n",
       "      (conv2): Conv2d(128, 128, kernel_size=(3, 3), stride=(1, 1), padding=(1, 1), bias=False)\n",
       "      (bn2): BatchNorm2d(128, eps=1e-05, momentum=0.1, affine=True, track_running_stats=True)\n",
       "      (lrelu): LeakyReLU(negative_slope=0.2, inplace=True)\n",
       "      (conv1): Conv2d(128, 128, kernel_size=(3, 3), stride=(1, 1), padding=(1, 1), bias=False)\n",
       "      (bn1): BatchNorm2d(128, eps=1e-05, momentum=0.1, affine=True, track_running_stats=True)\n",
       "    )\n",
       "    (1): ResidualBlockDecoder(\n",
       "      (conv2): Conv2d(128, 128, kernel_size=(3, 3), stride=(1, 1), padding=(1, 1), bias=False)\n",
       "      (bn2): BatchNorm2d(128, eps=1e-05, momentum=0.1, affine=True, track_running_stats=True)\n",
       "      (lrelu): LeakyReLU(negative_slope=0.2, inplace=True)\n",
       "      (conv1): Conv2d(128, 128, kernel_size=(3, 3), stride=(1, 1), padding=(1, 1), bias=False)\n",
       "      (bn1): BatchNorm2d(128, eps=1e-05, momentum=0.1, affine=True, track_running_stats=True)\n",
       "    )\n",
       "  )\n",
       "  (upsamp): UpsamplingNearest2d(scale_factor=2.0, mode=nearest)\n",
       "  (upc6): Sequential(\n",
       "    (0): ConvTranspose2d(128, 1, kernel_size=(3, 3), stride=(1, 1), padding=(1, 1))\n",
       "    (1): Sigmoid()\n",
       "  )\n",
       ")"
      ]
     },
     "execution_count": 27,
     "metadata": {},
     "output_type": "execute_result"
    }
   ],
   "source": [
    "resnet_decoder = Resnet18Decoder(skip_connection=False)\n",
    "resnet_decoder = resnet_decoder.to(device)\n",
    "resnet_decoder"
   ]
  },
  {
   "cell_type": "markdown",
   "metadata": {},
   "source": [
    "####  **3.2 VGG19-style Encoder-Decoder <a class=\"anchor\" id=\"sec_3_2\"></a>**"
   ]
  },
  {
   "cell_type": "code",
   "execution_count": 18,
   "metadata": {},
   "outputs": [
    {
     "data": {
      "text/plain": [
       "VGGEncoder(\n",
       "  (vgg_block1): Sequential(\n",
       "    (0): ConvBlock(\n",
       "      (module): Sequential(\n",
       "        (0): Conv2d(1, 64, kernel_size=(3, 3), stride=(1, 1), padding=(1, 1))\n",
       "        (1): BatchNorm2d(64, eps=1e-05, momentum=0.1, affine=True, track_running_stats=True)\n",
       "        (2): LeakyReLU(negative_slope=0.2, inplace=True)\n",
       "      )\n",
       "    )\n",
       "    (1): ConvBlock(\n",
       "      (module): Sequential(\n",
       "        (0): Conv2d(64, 64, kernel_size=(3, 3), stride=(1, 1), padding=(1, 1))\n",
       "        (1): BatchNorm2d(64, eps=1e-05, momentum=0.1, affine=True, track_running_stats=True)\n",
       "        (2): LeakyReLU(negative_slope=0.2, inplace=True)\n",
       "      )\n",
       "    )\n",
       "    (2): MaxPool2d(kernel_size=2, stride=2, padding=0, dilation=1, ceil_mode=False)\n",
       "  )\n",
       "  (vgg_block2): Sequential(\n",
       "    (0): ConvBlock(\n",
       "      (module): Sequential(\n",
       "        (0): Conv2d(64, 128, kernel_size=(3, 3), stride=(1, 1), padding=(1, 1))\n",
       "        (1): BatchNorm2d(128, eps=1e-05, momentum=0.1, affine=True, track_running_stats=True)\n",
       "        (2): LeakyReLU(negative_slope=0.2, inplace=True)\n",
       "      )\n",
       "    )\n",
       "    (1): ConvBlock(\n",
       "      (module): Sequential(\n",
       "        (0): Conv2d(128, 128, kernel_size=(3, 3), stride=(1, 1), padding=(1, 1))\n",
       "        (1): BatchNorm2d(128, eps=1e-05, momentum=0.1, affine=True, track_running_stats=True)\n",
       "        (2): LeakyReLU(negative_slope=0.2, inplace=True)\n",
       "      )\n",
       "    )\n",
       "    (2): MaxPool2d(kernel_size=2, stride=2, padding=0, dilation=1, ceil_mode=False)\n",
       "  )\n",
       "  (vgg_block3): Sequential(\n",
       "    (0): ConvBlock(\n",
       "      (module): Sequential(\n",
       "        (0): Conv2d(128, 256, kernel_size=(3, 3), stride=(1, 1), padding=(1, 1))\n",
       "        (1): BatchNorm2d(256, eps=1e-05, momentum=0.1, affine=True, track_running_stats=True)\n",
       "        (2): LeakyReLU(negative_slope=0.2, inplace=True)\n",
       "      )\n",
       "    )\n",
       "    (1): ConvBlock(\n",
       "      (module): Sequential(\n",
       "        (0): Conv2d(256, 256, kernel_size=(3, 3), stride=(1, 1), padding=(1, 1))\n",
       "        (1): BatchNorm2d(256, eps=1e-05, momentum=0.1, affine=True, track_running_stats=True)\n",
       "        (2): LeakyReLU(negative_slope=0.2, inplace=True)\n",
       "      )\n",
       "    )\n",
       "    (2): ConvBlock(\n",
       "      (module): Sequential(\n",
       "        (0): Conv2d(256, 256, kernel_size=(3, 3), stride=(1, 1), padding=(1, 1))\n",
       "        (1): BatchNorm2d(256, eps=1e-05, momentum=0.1, affine=True, track_running_stats=True)\n",
       "        (2): LeakyReLU(negative_slope=0.2, inplace=True)\n",
       "      )\n",
       "    )\n",
       "    (3): MaxPool2d(kernel_size=2, stride=2, padding=0, dilation=1, ceil_mode=False)\n",
       "  )\n",
       ")"
      ]
     },
     "execution_count": 18,
     "metadata": {},
     "output_type": "execute_result"
    }
   ],
   "source": [
    "vgg_encoder = VGGEncoder()\n",
    "vgg_encoder = vgg_encoder.to(device)\n",
    "vgg_encoder"
   ]
  },
  {
   "cell_type": "code",
   "execution_count": 19,
   "metadata": {},
   "outputs": [
    {
     "data": {
      "text/plain": [
       "VGGDecoder(\n",
       "  (vgg_block_dec3): Sequential(\n",
       "    (0): ConvBlock(\n",
       "      (module): Sequential(\n",
       "        (0): Conv2d(256, 256, kernel_size=(3, 3), stride=(1, 1), padding=(1, 1))\n",
       "        (1): BatchNorm2d(256, eps=1e-05, momentum=0.1, affine=True, track_running_stats=True)\n",
       "        (2): LeakyReLU(negative_slope=0.2, inplace=True)\n",
       "      )\n",
       "    )\n",
       "    (1): ConvBlock(\n",
       "      (module): Sequential(\n",
       "        (0): Conv2d(256, 256, kernel_size=(3, 3), stride=(1, 1), padding=(1, 1))\n",
       "        (1): BatchNorm2d(256, eps=1e-05, momentum=0.1, affine=True, track_running_stats=True)\n",
       "        (2): LeakyReLU(negative_slope=0.2, inplace=True)\n",
       "      )\n",
       "    )\n",
       "    (2): ConvTransposeBlock(\n",
       "      (module): Sequential(\n",
       "        (0): ConvTranspose2d(256, 128, kernel_size=(4, 4), stride=(2, 2), padding=(1, 1))\n",
       "        (1): BatchNorm2d(128, eps=1e-05, momentum=0.1, affine=True, track_running_stats=True)\n",
       "        (2): LeakyReLU(negative_slope=0.2, inplace=True)\n",
       "      )\n",
       "    )\n",
       "  )\n",
       "  (vgg_block_dec2): Sequential(\n",
       "    (0): ConvBlock(\n",
       "      (module): Sequential(\n",
       "        (0): Conv2d(256, 128, kernel_size=(3, 3), stride=(1, 1), padding=(1, 1))\n",
       "        (1): BatchNorm2d(128, eps=1e-05, momentum=0.1, affine=True, track_running_stats=True)\n",
       "        (2): LeakyReLU(negative_slope=0.2, inplace=True)\n",
       "      )\n",
       "    )\n",
       "    (1): ConvTransposeBlock(\n",
       "      (module): Sequential(\n",
       "        (0): ConvTranspose2d(128, 64, kernel_size=(4, 4), stride=(2, 2), padding=(1, 1))\n",
       "        (1): BatchNorm2d(64, eps=1e-05, momentum=0.1, affine=True, track_running_stats=True)\n",
       "        (2): LeakyReLU(negative_slope=0.2, inplace=True)\n",
       "      )\n",
       "    )\n",
       "  )\n",
       "  (vgg_block_dec1): Sequential(\n",
       "    (0): ConvBlock(\n",
       "      (module): Sequential(\n",
       "        (0): Conv2d(128, 64, kernel_size=(3, 3), stride=(1, 1), padding=(1, 1))\n",
       "        (1): BatchNorm2d(64, eps=1e-05, momentum=0.1, affine=True, track_running_stats=True)\n",
       "        (2): LeakyReLU(negative_slope=0.2, inplace=True)\n",
       "      )\n",
       "    )\n",
       "    (1): ConvTranspose2d(64, 1, kernel_size=(4, 4), stride=(2, 2), padding=(1, 1))\n",
       "    (2): Sigmoid()\n",
       "  )\n",
       ")"
      ]
     },
     "execution_count": 19,
     "metadata": {},
     "output_type": "execute_result"
    }
   ],
   "source": [
    "vgg_decoder = VGGDecoder(skip_connection=False)\n",
    "vgg_decoder = vgg_decoder.to(device)\n",
    "vgg_decoder"
   ]
  },
  {
   "cell_type": "markdown",
   "metadata": {},
   "source": [
    "####  **3.3 DCGAN-style Encoder-Decoder <a class=\"anchor\" id=\"sec_3_3\"></a>**"
   ]
  },
  {
   "cell_type": "code",
   "execution_count": 20,
   "metadata": {},
   "outputs": [
    {
     "data": {
      "text/plain": [
       "DCGANEncoder(\n",
       "  (block1): Sequential(\n",
       "    (0): ConvBlock(\n",
       "      (module): Sequential(\n",
       "        (0): Conv2d(1, 64, kernel_size=(4, 4), stride=(2, 2), padding=(1, 1))\n",
       "        (1): BatchNorm2d(64, eps=1e-05, momentum=0.1, affine=True, track_running_stats=True)\n",
       "        (2): LeakyReLU(negative_slope=0.2, inplace=True)\n",
       "      )\n",
       "    )\n",
       "    (1): ConvBlock(\n",
       "      (module): Sequential(\n",
       "        (0): Conv2d(64, 64, kernel_size=(3, 3), stride=(1, 1), padding=(1, 1))\n",
       "        (1): BatchNorm2d(64, eps=1e-05, momentum=0.1, affine=True, track_running_stats=True)\n",
       "        (2): LeakyReLU(negative_slope=0.2, inplace=True)\n",
       "      )\n",
       "    )\n",
       "  )\n",
       "  (block2): Sequential(\n",
       "    (0): ConvBlock(\n",
       "      (module): Sequential(\n",
       "        (0): Conv2d(64, 128, kernel_size=(4, 4), stride=(2, 2), padding=(1, 1))\n",
       "        (1): BatchNorm2d(128, eps=1e-05, momentum=0.1, affine=True, track_running_stats=True)\n",
       "        (2): LeakyReLU(negative_slope=0.2, inplace=True)\n",
       "      )\n",
       "    )\n",
       "    (1): ConvBlock(\n",
       "      (module): Sequential(\n",
       "        (0): Conv2d(128, 128, kernel_size=(3, 3), stride=(1, 1), padding=(1, 1))\n",
       "        (1): BatchNorm2d(128, eps=1e-05, momentum=0.1, affine=True, track_running_stats=True)\n",
       "        (2): LeakyReLU(negative_slope=0.2, inplace=True)\n",
       "      )\n",
       "    )\n",
       "  )\n",
       "  (block3): Sequential(\n",
       "    (0): ConvBlock(\n",
       "      (module): Sequential(\n",
       "        (0): Conv2d(128, 256, kernel_size=(4, 4), stride=(2, 2), padding=(1, 1))\n",
       "        (1): BatchNorm2d(256, eps=1e-05, momentum=0.1, affine=True, track_running_stats=True)\n",
       "        (2): LeakyReLU(negative_slope=0.2, inplace=True)\n",
       "      )\n",
       "    )\n",
       "    (1): ConvBlock(\n",
       "      (module): Sequential(\n",
       "        (0): Conv2d(256, 256, kernel_size=(3, 3), stride=(1, 1), padding=(1, 1))\n",
       "        (1): BatchNorm2d(256, eps=1e-05, momentum=0.1, affine=True, track_running_stats=True)\n",
       "        (2): LeakyReLU(negative_slope=0.2, inplace=True)\n",
       "      )\n",
       "    )\n",
       "  )\n",
       ")"
      ]
     },
     "execution_count": 20,
     "metadata": {},
     "output_type": "execute_result"
    }
   ],
   "source": [
    "dcgan_encoder = DCGANEncoder()\n",
    "dcgan_encoder = dcgan_encoder.to(device)\n",
    "dcgan_encoder"
   ]
  },
  {
   "cell_type": "code",
   "execution_count": 21,
   "metadata": {},
   "outputs": [
    {
     "data": {
      "text/plain": [
       "DCGANDecoder(\n",
       "  (block3): Sequential(\n",
       "    (0): ConvTransposeBlock(\n",
       "      (module): Sequential(\n",
       "        (0): ConvTranspose2d(256, 256, kernel_size=(3, 3), stride=(1, 1), padding=(1, 1))\n",
       "        (1): BatchNorm2d(256, eps=1e-05, momentum=0.1, affine=True, track_running_stats=True)\n",
       "        (2): LeakyReLU(negative_slope=0.2, inplace=True)\n",
       "      )\n",
       "    )\n",
       "    (1): ConvTransposeBlock(\n",
       "      (module): Sequential(\n",
       "        (0): ConvTranspose2d(256, 128, kernel_size=(4, 4), stride=(2, 2), padding=(1, 1))\n",
       "        (1): BatchNorm2d(128, eps=1e-05, momentum=0.1, affine=True, track_running_stats=True)\n",
       "        (2): LeakyReLU(negative_slope=0.2, inplace=True)\n",
       "      )\n",
       "    )\n",
       "  )\n",
       "  (block2): Sequential(\n",
       "    (0): ConvTransposeBlock(\n",
       "      (module): Sequential(\n",
       "        (0): ConvTranspose2d(256, 128, kernel_size=(3, 3), stride=(1, 1), padding=(1, 1))\n",
       "        (1): BatchNorm2d(128, eps=1e-05, momentum=0.1, affine=True, track_running_stats=True)\n",
       "        (2): LeakyReLU(negative_slope=0.2, inplace=True)\n",
       "      )\n",
       "    )\n",
       "    (1): ConvTransposeBlock(\n",
       "      (module): Sequential(\n",
       "        (0): ConvTranspose2d(128, 64, kernel_size=(4, 4), stride=(2, 2), padding=(1, 1))\n",
       "        (1): BatchNorm2d(64, eps=1e-05, momentum=0.1, affine=True, track_running_stats=True)\n",
       "        (2): LeakyReLU(negative_slope=0.2, inplace=True)\n",
       "      )\n",
       "    )\n",
       "  )\n",
       "  (block1): Sequential(\n",
       "    (0): ConvTransposeBlock(\n",
       "      (module): Sequential(\n",
       "        (0): ConvTranspose2d(128, 64, kernel_size=(3, 3), stride=(1, 1), padding=(1, 1))\n",
       "        (1): BatchNorm2d(64, eps=1e-05, momentum=0.1, affine=True, track_running_stats=True)\n",
       "        (2): LeakyReLU(negative_slope=0.2, inplace=True)\n",
       "      )\n",
       "    )\n",
       "    (1): ConvTranspose2d(64, 1, kernel_size=(4, 4), stride=(2, 2), padding=(1, 1))\n",
       "    (2): Sigmoid()\n",
       "  )\n",
       ")"
      ]
     },
     "execution_count": 21,
     "metadata": {},
     "output_type": "execute_result"
    }
   ],
   "source": [
    "dcgan_decoder = DCGANDecoder(skip_connection=False)\n",
    "dcgan_decoder = dcgan_decoder.to(device)\n",
    "dcgan_decoder"
   ]
  },
  {
   "cell_type": "code",
   "execution_count": null,
   "metadata": {},
   "outputs": [],
   "source": []
  },
  {
   "cell_type": "markdown",
   "metadata": {},
   "source": [
    "####  **3.4 ConvLSTM <a class=\"anchor\" id=\"sec_3_4\"></a>**"
   ]
  },
  {
   "cell_type": "code",
   "execution_count": 23,
   "metadata": {},
   "outputs": [
    {
     "data": {
      "text/plain": [
       "predictor(\n",
       "  (convlstm1): predictor_lstm(\n",
       "    (conv_lstms): ModuleList(\n",
       "      (0): ConvLSTMCell(\n",
       "        (conv): Conv2d(128, 256, kernel_size=(5, 5), stride=(1, 1), padding=(2, 2))\n",
       "      )\n",
       "      (1): ConvLSTMCell(\n",
       "        (conv): Conv2d(128, 256, kernel_size=(5, 5), stride=(1, 1), padding=(2, 2))\n",
       "      )\n",
       "    )\n",
       "  )\n",
       "  (convlstm2): predictor_lstm(\n",
       "    (conv_lstms): ModuleList(\n",
       "      (0): ConvLSTMCell(\n",
       "        (conv): Conv2d(256, 512, kernel_size=(5, 5), stride=(1, 1), padding=(2, 2))\n",
       "      )\n",
       "      (1): ConvLSTMCell(\n",
       "        (conv): Conv2d(256, 512, kernel_size=(5, 5), stride=(1, 1), padding=(2, 2))\n",
       "      )\n",
       "    )\n",
       "  )\n",
       "  (convlstm3): predictor_lstm(\n",
       "    (conv_lstms): ModuleList(\n",
       "      (0): ConvLSTMCell(\n",
       "        (conv): Conv2d(512, 1024, kernel_size=(5, 5), stride=(1, 1), padding=(2, 2))\n",
       "      )\n",
       "      (1): ConvLSTMCell(\n",
       "        (conv): Conv2d(512, 1024, kernel_size=(5, 5), stride=(1, 1), padding=(2, 2))\n",
       "      )\n",
       "    )\n",
       "  )\n",
       ")"
      ]
     },
     "execution_count": 23,
     "metadata": {},
     "output_type": "execute_result"
    }
   ],
   "source": [
    "predictor_lstm = predictor(batch_size= 20, device = device, mode=\"zeros\", num_layers=2)\n",
    "predictor_lstm"
   ]
  },
  {
   "cell_type": "markdown",
   "metadata": {},
   "source": [
    "####  **3.5 Models Paramters Statistics <a class=\"anchor\" id=\"sec_3_5\"></a>**"
   ]
  },
  {
   "cell_type": "code",
   "execution_count": 28,
   "metadata": {},
   "outputs": [],
   "source": [
    "resnet_encoder_params = count_model_params(resnet_encoder)\n",
    "resnet_decoder_params = count_model_params(resnet_decoder)\n",
    "resnet_decoder_skip = Resnet18Decoder(skip_connection=True).to(device)\n",
    "resnet_decoder_skip_params = count_model_params(resnet_decoder_skip)\n",
    "\n",
    "vgg_encoder_params = count_model_params(vgg_encoder)\n",
    "vgg_decoder_params = count_model_params(vgg_decoder)\n",
    "vgg_decoder_skip = VGGDecoder(skip_connection=True).to(device)\n",
    "vgg_decoder_skip_params = count_model_params(vgg_decoder_skip)\n",
    "\n",
    "dcgan_encoder_params = count_model_params(dcgan_encoder)\n",
    "dcgan_decoder_params = count_model_params(dcgan_decoder)\n",
    "dcgan_decoder_skip = DCGANDecoder(skip_connection=True).to(device)\n",
    "dcgan_decoder_skip_params = count_model_params(dcgan_decoder_skip)\n",
    "\n",
    "convlstm_2_params = count_model_params(predictor_lstm)\n",
    "predictor_lstm_3 = predictor(batch_size= 20, device = device, mode=\"zeros\", num_layers=3)\n",
    "convlstm_3_params = count_model_params(predictor_lstm_3)\n",
    "\n",
    "\n",
    "resnet_params_2 = count_model_params(resnet_encoder) + count_model_params(resnet_decoder) + count_model_params(predictor_lstm)"
   ]
  },
  {
   "cell_type": "code",
   "execution_count": 30,
   "metadata": {},
   "outputs": [
    {
     "data": {
      "text/html": [
       "<table>\n",
       "    <thead>\n",
       "        <tr>\n",
       "            <th>Model Type</th>\n",
       "            <th>#layers in ConvLSTM</th>\n",
       "            <th>Skip Connection</th>\n",
       "            <th>num parametes</th>\n",
       "        </tr>\n",
       "    </thead>\n",
       "    <tbody>\n",
       "        <tr>\n",
       "            <td>Resnet18</td>\n",
       "            <td>2</td>\n",
       "            <td>False</td>\n",
       "            <td>42891969</td>\n",
       "        </tr>\n",
       "        <tr>\n",
       "            <td>Resnet18</td>\n",
       "            <td>2</td>\n",
       "            <td>True</td>\n",
       "            <td>52484097</td>\n",
       "        </tr>\n",
       "        <tr>\n",
       "            <td>Resnet18</td>\n",
       "            <td>3</td>\n",
       "            <td>False</td>\n",
       "            <td>60441025</td>\n",
       "        </tr>\n",
       "        <tr>\n",
       "            <td>Resnet18</td>\n",
       "            <td>3</td>\n",
       "            <td>True</td>\n",
       "            <td>70033153</td>\n",
       "        </tr>\n",
       "        <tr>\n",
       "            <td>VGG19</td>\n",
       "            <td>2</td>\n",
       "            <td>False</td>\n",
       "            <td>39042113</td>\n",
       "        </tr>\n",
       "        <tr>\n",
       "            <td>VGG19</td>\n",
       "            <td>2</td>\n",
       "            <td>True</td>\n",
       "            <td>40410177</td>\n",
       "        </tr>\n",
       "        <tr>\n",
       "            <td>VGG19</td>\n",
       "            <td>3</td>\n",
       "            <td>False</td>\n",
       "            <td>56591169</td>\n",
       "        </tr>\n",
       "        <tr>\n",
       "            <td>VGG19</td>\n",
       "            <td>3</td>\n",
       "            <td>True</td>\n",
       "            <td>57959233</td>\n",
       "        </tr>\n",
       "        <tr>\n",
       "            <td>DCGAN</td>\n",
       "            <td>2</td>\n",
       "            <td>False</td>\n",
       "            <td>38148097</td>\n",
       "        </tr>\n",
       "        <tr>\n",
       "            <td>DCGAN</td>\n",
       "            <td>2</td>\n",
       "            <td>False</td>\n",
       "            <td>39516161</td>\n",
       "        </tr>\n",
       "        <tr>\n",
       "            <td>DCGAN</td>\n",
       "            <td>3</td>\n",
       "            <td>False</td>\n",
       "            <td>55697153</td>\n",
       "        </tr>\n",
       "        <tr>\n",
       "            <td>DCGAN</td>\n",
       "            <td>3</td>\n",
       "            <td>False</td>\n",
       "            <td>57065217</td>\n",
       "        </tr>\n",
       "    </tbody>\n",
       "</table>"
      ],
      "text/plain": [
       "+------------+---------------------+-----------------+---------------+\n",
       "| Model Type | #layers in ConvLSTM | Skip Connection | num parametes |\n",
       "+------------+---------------------+-----------------+---------------+\n",
       "|  Resnet18  |          2          |      False      |    42891969   |\n",
       "|  Resnet18  |          2          |       True      |    52484097   |\n",
       "|  Resnet18  |          3          |      False      |    60441025   |\n",
       "|  Resnet18  |          3          |       True      |    70033153   |\n",
       "|   VGG19    |          2          |      False      |    39042113   |\n",
       "|   VGG19    |          2          |       True      |    40410177   |\n",
       "|   VGG19    |          3          |      False      |    56591169   |\n",
       "|   VGG19    |          3          |       True      |    57959233   |\n",
       "|   DCGAN    |          2          |      False      |    38148097   |\n",
       "|   DCGAN    |          2          |      False      |    39516161   |\n",
       "|   DCGAN    |          3          |      False      |    55697153   |\n",
       "|   DCGAN    |          3          |      False      |    57065217   |\n",
       "+------------+---------------------+-----------------+---------------+"
      ]
     },
     "execution_count": 30,
     "metadata": {},
     "output_type": "execute_result"
    }
   ],
   "source": [
    "params_table = PrettyTable()\n",
    "params_table.field_names = [\"Model Type\", \"#layers in ConvLSTM\", \"Skip Connection\", \"num parametes\"]\n",
    "params_table.add_row([\"Resnet18\", 2, False, resnet_encoder_params+resnet_decoder_params+convlstm_2_params])\n",
    "params_table.add_row([\"Resnet18\", 2, True, resnet_encoder_params+resnet_decoder_skip_params+convlstm_2_params])\n",
    "params_table.add_row([\"Resnet18\", 3, False, resnet_encoder_params+resnet_decoder_params+convlstm_3_params])\n",
    "params_table.add_row([\"Resnet18\", 3, True, resnet_encoder_params+resnet_decoder_skip_params+convlstm_3_params])\n",
    "\n",
    "params_table.add_row([\"VGG19\", 2, False, vgg_encoder_params+vgg_decoder_params+convlstm_2_params])\n",
    "params_table.add_row([\"VGG19\", 2, True, vgg_encoder_params+vgg_decoder_skip_params+convlstm_2_params])\n",
    "params_table.add_row([\"VGG19\", 3, False, vgg_encoder_params+vgg_decoder_params+convlstm_3_params])\n",
    "params_table.add_row([\"VGG19\", 3, True, vgg_encoder_params+vgg_decoder_skip_params+convlstm_3_params])\n",
    "\n",
    "params_table.add_row([\"DCGAN\", 2, False, dcgan_encoder_params+dcgan_decoder_params+convlstm_2_params])\n",
    "params_table.add_row([\"DCGAN\", 2, False, dcgan_encoder_params+dcgan_decoder_skip_params+convlstm_2_params])\n",
    "params_table.add_row([\"DCGAN\", 3, False, dcgan_encoder_params+dcgan_decoder_params+convlstm_3_params])\n",
    "params_table.add_row([\"DCGAN\", 3, False, dcgan_encoder_params+dcgan_decoder_skip_params+convlstm_3_params])\n",
    "\n",
    "params_table"
   ]
  },
  {
   "cell_type": "markdown",
   "metadata": {},
   "source": [
    "### **5. Results <a class=\"anchor\" id=\"sec_5\"></a>**"
   ]
  },
  {
   "cell_type": "markdown",
   "metadata": {},
   "source": [
    "#### **5.1 Results on MMNIST <a class=\"anchor\" id=\"sec_5_1\"></a>**"
   ]
  },
  {
   "cell_type": "markdown",
   "metadata": {},
   "source": [
    "##### **5.1.1 Visualizae Best Metrices <a class=\"anchor\" id=\"sec_5_1_1\"></a>**"
   ]
  },
  {
   "cell_type": "code",
   "execution_count": null,
   "metadata": {},
   "outputs": [],
   "source": [
    "saved_model_path = \"/home/dhagash/Projects/video-prediction/checkpoints/mmnist_resnet_2_lpips_resnet_convlstm/model_90.pth\"\n",
    "evaluation = eval(model_path = saved_model_path)"
   ]
  },
  {
   "cell_type": "code",
   "execution_count": null,
   "metadata": {},
   "outputs": [],
   "source": [
    "evaluation.visualize_best_metrices()"
   ]
  },
  {
   "cell_type": "markdown",
   "metadata": {},
   "source": [
    "##### **5.1.2 Visualizae Output for Random Samples <a class=\"anchor\" id=\"sec_5_1_2\"></a>**"
   ]
  },
  {
   "cell_type": "markdown",
   "metadata": {},
   "source": [
    "##### **5.1.3 Models Comparison <a class=\"anchor\" id=\"sec_5_1_3\"></a>**"
   ]
  },
  {
   "cell_type": "code",
   "execution_count": null,
   "metadata": {},
   "outputs": [],
   "source": [
    "saved_model_path = \"/home/dhagash/Projects/video-prediction/checkpoints/mmnist_resnet_2_lpips_resnet_convlstm/model_90.pth\"\n",
    "evaluation = eval(model_path = saved_model_path)"
   ]
  },
  {
   "cell_type": "code",
   "execution_count": null,
   "metadata": {},
   "outputs": [],
   "source": [
    "evaluation.visualize_best_metrices()"
   ]
  },
  {
   "cell_type": "markdown",
   "metadata": {},
   "source": [
    "#### **5.2 Results on KTH <a class=\"anchor\" id=\"sec_5_2\"></a>**"
   ]
  },
  {
   "cell_type": "markdown",
   "metadata": {},
   "source": [
    "##### **5.2.1 Visualizae Best Metrices <a class=\"anchor\" id=\"sec_5_2_1\"></a>**"
   ]
  },
  {
   "cell_type": "markdown",
   "metadata": {},
   "source": [
    "##### **5.2.2 Visualizae Output for Random Samples <a class=\"anchor\" id=\"sec_5_2_2\"></a>**"
   ]
  },
  {
   "cell_type": "markdown",
   "metadata": {},
   "source": [
    "##### **5.2.3 Models Comparison <a class=\"anchor\" id=\"sec_5_2_3\"></a>**"
   ]
  },
  {
   "cell_type": "markdown",
   "metadata": {},
   "source": [
    "### **6. References <a class=\"anchor\" id=\"sec_6\"></a>**"
   ]
  }
 ],
 "metadata": {
  "interpreter": {
   "hash": "b3ba2566441a7c06988d0923437866b63cedc61552a5af99d1f4fb67d367b25f"
  },
  "kernelspec": {
   "display_name": "Python 3.9.7 ('base')",
   "language": "python",
   "name": "python3"
  },
  "language_info": {
   "codemirror_mode": {
    "name": "ipython",
    "version": 3
   },
   "file_extension": ".py",
   "mimetype": "text/x-python",
   "name": "python",
   "nbconvert_exporter": "python",
   "pygments_lexer": "ipython3",
   "version": "3.9.7"
  },
  "orig_nbformat": 4
 },
 "nbformat": 4,
 "nbformat_minor": 2
}
